{
 "cells": [
  {
   "cell_type": "code",
   "execution_count": 1,
   "metadata": {},
   "outputs": [],
   "source": [
    "import os\n",
    "import shutil\n",
    "\n",
    "def rename_and_copy_files(source_directory, target_directory):\n",
    "    count = 1\n",
    "    '''\n",
    "    将文件夹及其子文件夹中的文件先重命名，再复制提取到另外一个文件夹中\n",
    "    '''\n",
    "    # 创建目标文件夹\n",
    "    if not os.path.exists(target_directory):\n",
    "        os.makedirs(target_directory)\n",
    "    \n",
    "    # 递归遍历源文件夹及其子文件夹\n",
    "    for root, dirs, files in os.walk(source_directory):\n",
    "        for file in files:\n",
    "            if file == \"audio.m4s\":\n",
    "                source_path = os.path.join(root, file)\n",
    "                new_name = f\"audio{count}.m4s\"\n",
    "                renamed_path = os.path.join(root, new_name)\n",
    "                \n",
    "                os.rename(source_path, renamed_path)  # 重命名文件\n",
    "                target_path = os.path.join(target_directory, new_name)\n",
    "                shutil.copy(renamed_path, target_path)  # 复制重命名后的文件\n",
    "                count += 1\n",
    "\n",
    "# 示例使用\n",
    "source_directory = 'E:\\\\video\\\\bilibili'  # 替换为你的源文件夹路径\n",
    "target_directory = 'E:\\\\video\\\\audio'  # 替换为你的目标文件夹路径\n",
    "\n",
    "rename_and_copy_files(source_directory, target_directory)\n"
   ]
  },
  {
   "cell_type": "code",
   "execution_count": 2,
   "metadata": {},
   "outputs": [],
   "source": [
    "def change_file_extension(directory, old_extension, new_extension):\n",
    "    for file in os.listdir(directory):\n",
    "        file_path = os.path.join(directory, file)\n",
    "        if os.path.isfile(file_path) and file.endswith(old_extension):\n",
    "            new_file_path = os.path.splitext(file_path)[0] + new_extension\n",
    "            os.rename(file_path, new_file_path)\n",
    "\n",
    "# 示例使用\n",
    "directory = 'E:\\\\video\\\\audio'  # 替换为你的目标文件夹路径\n",
    "old_extension = '.m4s'  # 替换为你想要更改的旧后缀\n",
    "new_extension = '.mp3'  # 替换为你想要更改的新后缀\n",
    "\n",
    "change_file_extension(directory, old_extension, new_extension)"
   ]
  },
  {
   "cell_type": "code",
   "execution_count": null,
   "metadata": {},
   "outputs": [],
   "source": [
    "# 获取当前目录下所有文件\n",
    "file_list = os.listdir('.')\n",
    "for file in file_list:\n",
    "    if file.endswith('.m4a'):\n",
    "        # 构建新文件名\n",
    "        new_name = file.replace('.m4a', '.mp3')\n",
    "        # 重命名文件\n",
    "        os.rename(file, new_name)\n",
    "\n",
    "\"\"\"\n",
    "这段代码当前只能遍历指定目录下的直接子文件!!\n",
    "这段代码首先列出当前目录下所有文件，然后遍历文件列表，对于以 \".m4a\" 结尾的文件，使用 replace 方法将 \".m4a\" 替换为 \".mp3\"，最后使用 os.rename 方法重命名文件。请确保在执行此代码前备份您的文件，以防止意外损失。\n",
    "\"\"\""
   ]
  },
  {
   "cell_type": "code",
   "execution_count": null,
   "metadata": {},
   "outputs": [],
   "source": [
    "# 如果您需要递归遍历文件夹下的所有子文件夹，您可以使用 os.walk 方法。以下是修改后的代码：\n",
    "# 遍历目录及子目录下所有文件\n",
    "for root, dirs, files in os.walk('.'):\n",
    "    for file in files:\n",
    "        if file.endswith('.m4a'):\n",
    "            # 构建旧文件完整路径\n",
    "            old_path = os.path.join(root, file)\n",
    "            # 构建新文件名\n",
    "            new_name = file.replace('.m4a', '.mp3')\n",
    "            # 构建新文件完整路径\n",
    "            new_path = os.path.join(root, new_name)\n",
    "            # 重命名文件\n",
    "            os.rename(old_path, new_path)"
   ]
  },
  {
   "cell_type": "code",
   "execution_count": null,
   "metadata": {},
   "outputs": [],
   "source": [
    "\"\"\"\n",
    "  要在Python中执行无损转换，您可以使用FFmpeg库，它是一个功能强大的多媒体处理工具。\n",
    "  您可以使用FFmpeg将M4A文件转换为MP3文件。\n",
    "  下面是一个示例代码，展示如何使用FFmpeg库来实现这一转换:  \n",
    "\"\"\"\n",
    "import subprocess\n",
    "\n",
    "def convert_m4a_to_mp3(input_file, output_file):\n",
    "    cmd = f'ffmpeg -i {input_file} -acodec libmp3lame {output_file}'\n",
    "    subprocess.call(cmd, shell=True)\n",
    "\n",
    "def convert_folder_m4a_to_mp3(folder_path):\n",
    "    for root, dirs, files in os.walk(folder_path):\n",
    "        for file in files:\n",
    "            if file.endswith('.m4a'):\n",
    "                input_file = os.path.join(root, file)\n",
    "                output_file = os.path.join(root, file.replace('.m4a', '.mp3'))\n",
    "                convert_m4a_to_mp3(input_file, output_file)\n",
    "\n",
    "# 指定要转换的文件夹\n",
    "folder_path = 'your_folder_path_here'\n",
    "convert_folder_m4a_to_mp3(folder_path)"
   ]
  }
 ],
 "metadata": {
  "kernelspec": {
   "display_name": "base",
   "language": "python",
   "name": "python3"
  },
  "language_info": {
   "codemirror_mode": {
    "name": "ipython",
    "version": 3
   },
   "file_extension": ".py",
   "mimetype": "text/x-python",
   "name": "python",
   "nbconvert_exporter": "python",
   "pygments_lexer": "ipython3",
   "version": "3.11.5"
  }
 },
 "nbformat": 4,
 "nbformat_minor": 2
}
